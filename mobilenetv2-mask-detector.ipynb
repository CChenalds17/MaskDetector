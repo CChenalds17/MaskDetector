{
 "cells": [
  {
   "cell_type": "code",
   "execution_count": 1,
   "metadata": {},
   "outputs": [],
   "source": [
    "import tensorflow as tf\n",
    "import keras\n",
    "from tensorflow.keras.preprocessing import image_dataset_from_directory\n",
    "import keras.layers\n",
    "from tensorflow.keras.applications.mobilenet_v2 import MobileNetV2\n",
    "from tensorflow.keras.preprocessing.image import ImageDataGenerator\n",
    "from tensorflow.keras.utils import load_img\n",
    "from tensorflow.keras.utils import img_to_array\n",
    "from tensorflow.keras.applications.resnet50 import preprocess_input\n",
    "\n",
    "from sklearn.model_selection import train_test_split\n",
    "from sklearn.preprocessing import LabelBinarizer\n",
    "\n",
    "import os\n",
    "from os import listdir\n",
    "import PIL\n",
    "from PIL import Image\n",
    "from PIL import ImageOps\n",
    "from imutils import paths\n",
    "\n",
    "import numpy as np"
   ]
  },
  {
   "cell_type": "code",
   "execution_count": 3,
   "metadata": {},
   "outputs": [],
   "source": [
    "image_size = (224, 224)\n",
    "dropout = 0.2\n",
    "batch_size = 32\n",
    "lr = 1e-4\n",
    "epochs = 20"
   ]
  },
  {
   "cell_type": "code",
   "execution_count": 4,
   "metadata": {},
   "outputs": [],
   "source": [
    "maskoff_paths = list(paths.list_images('faces/maskoff/'))\n",
    "maskon_paths = list(paths.list_images('faces/maskon/'))\n",
    "\n",
    "data = []\n",
    "labels = []\n",
    "\n",
    "# maskoff\n",
    "for maskoff_path in maskoff_paths:\n",
    "    label = 'maskoff'\n",
    "    image = load_img(maskoff_path, target_size=(224, 224))\n",
    "    image = img_to_array(image)\n",
    "    image = preprocess_input(image)\n",
    "    data.append(image)\n",
    "    labels.append(label)\n",
    "\n",
    "# maskon\n",
    "for maskon_path in maskon_paths:\n",
    "    label = 'maskon'\n",
    "    image = load_img(maskon_path, target_size=(224, 224))\n",
    "    image = img_to_array(image)\n",
    "    image = preprocess_input(image)\n",
    "    data.append(image)\n",
    "    labels.append(label)"
   ]
  },
  {
   "cell_type": "code",
   "execution_count": 5,
   "metadata": {},
   "outputs": [],
   "source": [
    "data = np.array(data, dtype=\"float32\")\n",
    "labels = np.array(labels)"
   ]
  },
  {
   "cell_type": "code",
   "execution_count": 6,
   "metadata": {},
   "outputs": [],
   "source": [
    "lb = LabelBinarizer()\n",
    "labels = lb.fit_transform(labels)\n",
    "labels = keras.utils.to_categorical(labels)"
   ]
  },
  {
   "cell_type": "code",
   "execution_count": 7,
   "metadata": {},
   "outputs": [],
   "source": [
    "(train_x, test_x, train_y, test_y) = train_test_split(data, labels,\n",
    "\ttest_size=0.20, stratify=labels, random_state=42)"
   ]
  },
  {
   "cell_type": "code",
   "execution_count": 8,
   "metadata": {},
   "outputs": [],
   "source": [
    "base_model = MobileNetV2(weights=\"imagenet\", include_top=False, input_shape=image_size + (3,))\n",
    "head_model = base_model.output\n",
    "head_model = keras.layers.AveragePooling2D(pool_size=(7, 7))(head_model)\n",
    "head_model = keras.layers.Flatten(name=\"flatten\")(head_model)\n",
    "head_model = keras.layers.Dense(128, activation=\"relu\")(head_model)\n",
    "head_model = keras.layers.Dropout(0.5)(head_model)\n",
    "head_model = keras.layers.Dense(2, activation=\"softmax\")(head_model)\n",
    "\n",
    "model = keras.models.Model(inputs=base_model.input, outputs=head_model)\n",
    "for layer in base_model.layers:\n",
    "\tlayer.trainable = False"
   ]
  },
  {
   "cell_type": "code",
   "execution_count": 9,
   "metadata": {},
   "outputs": [],
   "source": [
    "# construct the training image generator for data augmentation\n",
    "aug = ImageDataGenerator(\n",
    "\trotation_range=20,\n",
    "\tzoom_range=0.15,\n",
    "\twidth_shift_range=0.2,\n",
    "\theight_shift_range=0.2,\n",
    "\tshear_range=0.15,\n",
    "\thorizontal_flip=True,\n",
    "\tfill_mode=\"nearest\")\n",
    "train_generator = aug.flow(\n",
    "    train_x, train_y,\n",
    "    batch_size = batch_size\n",
    ")"
   ]
  },
  {
   "cell_type": "code",
   "execution_count": 10,
   "metadata": {},
   "outputs": [],
   "source": [
    "callbacks = [\n",
    "    keras.callbacks.ModelCheckpoint(\"saved_models/model_1/save_at_{epoch}.keras\")\n",
    "]"
   ]
  },
  {
   "cell_type": "code",
   "execution_count": 11,
   "metadata": {},
   "outputs": [
    {
     "name": "stderr",
     "output_type": "stream",
     "text": [
      "c:\\Users\\charl\\AppData\\Local\\Programs\\Python\\Python39\\lib\\site-packages\\keras\\optimizers\\optimizer_v2\\adam.py:117: UserWarning: The `lr` argument is deprecated, use `learning_rate` instead.\n",
      "  super().__init__(name, **kwargs)\n"
     ]
    }
   ],
   "source": [
    "opt = keras.optimizers.Adam(lr =lr, decay = lr / epochs)\n",
    "model.compile(loss=\"binary_crossentropy\", optimizer=opt,\n",
    "\tmetrics=[\"accuracy\"])"
   ]
  },
  {
   "cell_type": "code",
   "execution_count": 12,
   "metadata": {},
   "outputs": [
    {
     "name": "stdout",
     "output_type": "stream",
     "text": [
      "Epoch 1/20\n",
      "47/47 [==============================] - 62s 1s/step - loss: 0.6943 - accuracy: 0.6477 - val_loss: 0.4843 - val_accuracy: 0.7857\n",
      "Epoch 2/20\n",
      "47/47 [==============================] - 51s 1s/step - loss: 0.4875 - accuracy: 0.7805 - val_loss: 0.3617 - val_accuracy: 0.8651\n",
      "Epoch 3/20\n",
      "47/47 [==============================] - 51s 1s/step - loss: 0.3891 - accuracy: 0.8462 - val_loss: 0.3119 - val_accuracy: 0.8862\n",
      "Epoch 4/20\n",
      "47/47 [==============================] - 57s 1s/step - loss: 0.3490 - accuracy: 0.8706 - val_loss: 0.2669 - val_accuracy: 0.9074\n",
      "Epoch 5/20\n",
      "47/47 [==============================] - 55s 1s/step - loss: 0.3134 - accuracy: 0.8821 - val_loss: 0.2458 - val_accuracy: 0.9180\n",
      "Epoch 6/20\n",
      "47/47 [==============================] - 53s 1s/step - loss: 0.2954 - accuracy: 0.8950 - val_loss: 0.2227 - val_accuracy: 0.9312\n",
      "Epoch 7/20\n",
      "47/47 [==============================] - 52s 1s/step - loss: 0.2629 - accuracy: 0.9004 - val_loss: 0.2156 - val_accuracy: 0.9286\n",
      "Epoch 8/20\n",
      "47/47 [==============================] - 54s 1s/step - loss: 0.2602 - accuracy: 0.8970 - val_loss: 0.2044 - val_accuracy: 0.9365\n",
      "Epoch 9/20\n",
      "47/47 [==============================] - 54s 1s/step - loss: 0.2346 - accuracy: 0.9180 - val_loss: 0.1859 - val_accuracy: 0.9418\n",
      "Epoch 10/20\n",
      "47/47 [==============================] - 54s 1s/step - loss: 0.2309 - accuracy: 0.9153 - val_loss: 0.1805 - val_accuracy: 0.9418\n",
      "Epoch 11/20\n",
      "47/47 [==============================] - 52s 1s/step - loss: 0.2300 - accuracy: 0.9173 - val_loss: 0.1779 - val_accuracy: 0.9392\n",
      "Epoch 12/20\n",
      "47/47 [==============================] - 52s 1s/step - loss: 0.2010 - accuracy: 0.9214 - val_loss: 0.1659 - val_accuracy: 0.9418\n",
      "Epoch 13/20\n",
      "47/47 [==============================] - 51s 1s/step - loss: 0.2159 - accuracy: 0.9275 - val_loss: 0.1636 - val_accuracy: 0.9392\n",
      "Epoch 14/20\n",
      "47/47 [==============================] - 50s 1s/step - loss: 0.2080 - accuracy: 0.9187 - val_loss: 0.1558 - val_accuracy: 0.9418\n",
      "Epoch 15/20\n",
      "47/47 [==============================] - 50s 1s/step - loss: 0.2058 - accuracy: 0.9309 - val_loss: 0.1549 - val_accuracy: 0.9392\n",
      "Epoch 16/20\n",
      "47/47 [==============================] - 51s 1s/step - loss: 0.1800 - accuracy: 0.9362 - val_loss: 0.1504 - val_accuracy: 0.9418\n",
      "Epoch 17/20\n",
      "47/47 [==============================] - 51s 1s/step - loss: 0.1948 - accuracy: 0.9180 - val_loss: 0.1512 - val_accuracy: 0.9418\n",
      "Epoch 18/20\n",
      "47/47 [==============================] - 50s 1s/step - loss: 0.1825 - accuracy: 0.9343 - val_loss: 0.1474 - val_accuracy: 0.9418\n",
      "Epoch 19/20\n",
      "47/47 [==============================] - 51s 1s/step - loss: 0.1890 - accuracy: 0.9275 - val_loss: 0.1421 - val_accuracy: 0.9392\n",
      "Epoch 20/20\n",
      "47/47 [==============================] - 51s 1s/step - loss: 0.1852 - accuracy: 0.9275 - val_loss: 0.1452 - val_accuracy: 0.9418\n"
     ]
    }
   ],
   "source": [
    "history = model.fit(\n",
    "    train_generator,\n",
    "    steps_per_epoch=len(train_x) // batch_size,\n",
    "\tvalidation_data=(test_x, test_y),\n",
    "\tvalidation_steps=len(test_x) // batch_size,\n",
    "\tepochs=epochs,\n",
    "    callbacks=callbacks)"
   ]
  }
 ],
 "metadata": {
  "kernelspec": {
   "display_name": "Python 3",
   "language": "python",
   "name": "python3"
  },
  "language_info": {
   "codemirror_mode": {
    "name": "ipython",
    "version": 3
   },
   "file_extension": ".py",
   "mimetype": "text/x-python",
   "name": "python",
   "nbconvert_exporter": "python",
   "pygments_lexer": "ipython3",
   "version": "3.9.7"
  },
  "orig_nbformat": 4
 },
 "nbformat": 4,
 "nbformat_minor": 2
}
